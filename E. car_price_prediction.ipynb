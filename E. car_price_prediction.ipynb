{
 "cells": [
  {
   "cell_type": "markdown",
   "metadata": {},
   "source": [
    "# **Car price prediction**"
   ]
  },
  {
   "cell_type": "code",
   "execution_count": 378,
   "metadata": {},
   "outputs": [],
   "source": [
    "# Importing libraries\n",
    "\n",
    "import pandas as pd\n",
    "import numpy as np\n",
    "import matplotlib.pyplot as plt\n",
    "import seaborn as sns\n",
    "\n",
    "import warnings\n",
    "warnings.filterwarnings('ignore')"
   ]
  },
  {
   "cell_type": "code",
   "execution_count": 379,
   "metadata": {},
   "outputs": [],
   "source": [
    "# reading the dataset\n",
    "df = pd.read_csv(\"z_Car.csv\")"
   ]
  },
  {
   "cell_type": "code",
   "execution_count": 380,
   "metadata": {},
   "outputs": [
    {
     "data": {
      "text/html": [
       "<div>\n",
       "<style scoped>\n",
       "    .dataframe tbody tr th:only-of-type {\n",
       "        vertical-align: middle;\n",
       "    }\n",
       "\n",
       "    .dataframe tbody tr th {\n",
       "        vertical-align: top;\n",
       "    }\n",
       "\n",
       "    .dataframe thead th {\n",
       "        text-align: right;\n",
       "    }\n",
       "</style>\n",
       "<table border=\"1\" class=\"dataframe\">\n",
       "  <thead>\n",
       "    <tr style=\"text-align: right;\">\n",
       "      <th></th>\n",
       "      <th>Unnamed: 0</th>\n",
       "      <th>name</th>\n",
       "      <th>year</th>\n",
       "      <th>selling_price</th>\n",
       "      <th>km_driven</th>\n",
       "      <th>fuel</th>\n",
       "      <th>seller_type</th>\n",
       "      <th>transmission</th>\n",
       "      <th>owner</th>\n",
       "      <th>mileage</th>\n",
       "      <th>engine</th>\n",
       "      <th>max_power</th>\n",
       "      <th>torque</th>\n",
       "      <th>seats</th>\n",
       "    </tr>\n",
       "  </thead>\n",
       "  <tbody>\n",
       "    <tr>\n",
       "      <th>0</th>\n",
       "      <td>0</td>\n",
       "      <td>Maruti Swift Dzire VDI</td>\n",
       "      <td>2014</td>\n",
       "      <td>450000</td>\n",
       "      <td>145500</td>\n",
       "      <td>Diesel</td>\n",
       "      <td>Individual</td>\n",
       "      <td>Manual</td>\n",
       "      <td>First Owner</td>\n",
       "      <td>23.4 kmpl</td>\n",
       "      <td>1248 CC</td>\n",
       "      <td>74 bhp</td>\n",
       "      <td>190Nm@ 2000rpm</td>\n",
       "      <td>5.0</td>\n",
       "    </tr>\n",
       "    <tr>\n",
       "      <th>1</th>\n",
       "      <td>1</td>\n",
       "      <td>Skoda Rapid 1.5 TDI Ambition</td>\n",
       "      <td>2014</td>\n",
       "      <td>370000</td>\n",
       "      <td>120000</td>\n",
       "      <td>Diesel</td>\n",
       "      <td>Individual</td>\n",
       "      <td>Manual</td>\n",
       "      <td>Second Owner</td>\n",
       "      <td>21.14 kmpl</td>\n",
       "      <td>1498 CC</td>\n",
       "      <td>103.52 bhp</td>\n",
       "      <td>250Nm@ 1500-2500rpm</td>\n",
       "      <td>5.0</td>\n",
       "    </tr>\n",
       "    <tr>\n",
       "      <th>2</th>\n",
       "      <td>2</td>\n",
       "      <td>Honda City 2017-2020 EXi</td>\n",
       "      <td>2006</td>\n",
       "      <td>158000</td>\n",
       "      <td>140000</td>\n",
       "      <td>Petrol</td>\n",
       "      <td>Individual</td>\n",
       "      <td>Manual</td>\n",
       "      <td>Third Owner</td>\n",
       "      <td>17.7 kmpl</td>\n",
       "      <td>1497 CC</td>\n",
       "      <td>78 bhp</td>\n",
       "      <td>12.7@ 2,700(kgm@ rpm)</td>\n",
       "      <td>5.0</td>\n",
       "    </tr>\n",
       "    <tr>\n",
       "      <th>3</th>\n",
       "      <td>3</td>\n",
       "      <td>Hyundai i20 Sportz Diesel</td>\n",
       "      <td>2010</td>\n",
       "      <td>225000</td>\n",
       "      <td>127000</td>\n",
       "      <td>Diesel</td>\n",
       "      <td>Individual</td>\n",
       "      <td>Manual</td>\n",
       "      <td>First Owner</td>\n",
       "      <td>23.0 kmpl</td>\n",
       "      <td>1396 CC</td>\n",
       "      <td>90 bhp</td>\n",
       "      <td>22.4 kgm at 1750-2750rpm</td>\n",
       "      <td>5.0</td>\n",
       "    </tr>\n",
       "    <tr>\n",
       "      <th>4</th>\n",
       "      <td>4</td>\n",
       "      <td>Maruti Swift VXI BSIII</td>\n",
       "      <td>2007</td>\n",
       "      <td>130000</td>\n",
       "      <td>120000</td>\n",
       "      <td>Petrol</td>\n",
       "      <td>Individual</td>\n",
       "      <td>Manual</td>\n",
       "      <td>First Owner</td>\n",
       "      <td>16.1 kmpl</td>\n",
       "      <td>1298 CC</td>\n",
       "      <td>88.2 bhp</td>\n",
       "      <td>11.5@ 4,500(kgm@ rpm)</td>\n",
       "      <td>5.0</td>\n",
       "    </tr>\n",
       "  </tbody>\n",
       "</table>\n",
       "</div>"
      ],
      "text/plain": [
       "   Unnamed: 0                          name  year  selling_price  km_driven  \\\n",
       "0           0        Maruti Swift Dzire VDI  2014         450000     145500   \n",
       "1           1  Skoda Rapid 1.5 TDI Ambition  2014         370000     120000   \n",
       "2           2      Honda City 2017-2020 EXi  2006         158000     140000   \n",
       "3           3     Hyundai i20 Sportz Diesel  2010         225000     127000   \n",
       "4           4        Maruti Swift VXI BSIII  2007         130000     120000   \n",
       "\n",
       "     fuel seller_type transmission         owner     mileage   engine  \\\n",
       "0  Diesel  Individual       Manual   First Owner   23.4 kmpl  1248 CC   \n",
       "1  Diesel  Individual       Manual  Second Owner  21.14 kmpl  1498 CC   \n",
       "2  Petrol  Individual       Manual   Third Owner   17.7 kmpl  1497 CC   \n",
       "3  Diesel  Individual       Manual   First Owner   23.0 kmpl  1396 CC   \n",
       "4  Petrol  Individual       Manual   First Owner   16.1 kmpl  1298 CC   \n",
       "\n",
       "    max_power                    torque  seats  \n",
       "0      74 bhp            190Nm@ 2000rpm    5.0  \n",
       "1  103.52 bhp       250Nm@ 1500-2500rpm    5.0  \n",
       "2      78 bhp     12.7@ 2,700(kgm@ rpm)    5.0  \n",
       "3      90 bhp  22.4 kgm at 1750-2750rpm    5.0  \n",
       "4    88.2 bhp     11.5@ 4,500(kgm@ rpm)    5.0  "
      ]
     },
     "execution_count": 380,
     "metadata": {},
     "output_type": "execute_result"
    }
   ],
   "source": [
    "# showing first five rows\n",
    "df.head()"
   ]
  },
  {
   "cell_type": "markdown",
   "metadata": {},
   "source": [
    "# **Missing Values**"
   ]
  },
  {
   "cell_type": "code",
   "execution_count": 381,
   "metadata": {},
   "outputs": [
    {
     "data": {
      "text/plain": [
       "Unnamed: 0         0\n",
       "name               0\n",
       "year               0\n",
       "selling_price      0\n",
       "km_driven          0\n",
       "fuel               0\n",
       "seller_type        0\n",
       "transmission       0\n",
       "owner              0\n",
       "mileage          221\n",
       "engine           221\n",
       "max_power        215\n",
       "torque           221\n",
       "seats            221\n",
       "dtype: int64"
      ]
     },
     "execution_count": 381,
     "metadata": {},
     "output_type": "execute_result"
    }
   ],
   "source": [
    "df.isnull().sum()"
   ]
  },
  {
   "cell_type": "code",
   "execution_count": 382,
   "metadata": {},
   "outputs": [],
   "source": [
    "#Droppin missing values and reset the index\n",
    "df = df.dropna()\n",
    "df = df.reset_index(drop=True)"
   ]
  },
  {
   "cell_type": "markdown",
   "metadata": {},
   "source": [
    "# **Columns**"
   ]
  },
  {
   "cell_type": "code",
   "execution_count": 383,
   "metadata": {},
   "outputs": [
    {
     "name": "stdout",
     "output_type": "stream",
     "text": [
      "[ 5.  4.  7.  8.  6.  9. 10. 14.  2.]\n",
      "float64\n",
      "5.0     6254\n",
      "7.0     1120\n",
      "8.0      235\n",
      "4.0      133\n",
      "9.0       80\n",
      "6.0       62\n",
      "10.0      19\n",
      "2.0        2\n",
      "14.0       1\n",
      "Name: seats, dtype: int64\n"
     ]
    }
   ],
   "source": [
    "'''Seats'''\n",
    "\n",
    "print(df[\"seats\"].unique())\n",
    "print(df[\"seats\"].dtype)\n",
    "print(df[\"seats\"].value_counts())"
   ]
  },
  {
   "cell_type": "code",
   "execution_count": 384,
   "metadata": {},
   "outputs": [],
   "source": [
    "'''Torque'''\n",
    "\n",
    "# object dtype ---- str or multiple datatypes\n",
    "# Below column is not able to modified\n",
    "df.drop(columns=\"torque\",inplace=True)"
   ]
  },
  {
   "cell_type": "code",
   "execution_count": 385,
   "metadata": {},
   "outputs": [
    {
     "name": "stdout",
     "output_type": "stream",
     "text": [
      "object\n",
      "float32\n"
     ]
    }
   ],
   "source": [
    "'''max_power'''\n",
    "\n",
    "print(df[\"max_power\"].dtype)\n",
    "\n",
    "def fxn(x):\n",
    "    return x.split(\" \")[0]\n",
    "\n",
    "df[\"max_power\"] = df[\"max_power\"].apply(fxn)\n",
    "\n",
    "#df['max_power']=df['max_power'].astype(\"float32\")\n",
    "#Above line create error\n",
    "\n",
    "corrupt = []\n",
    "for i in range(len(df)):\n",
    "    try:\n",
    "        float(df.iloc[i,-2])\n",
    "    except:\n",
    "        corrupt.append(i)\n",
    "\n",
    "df = df.drop(index=corrupt)\n",
    "df = df.reset_index(drop=True)\n",
    "\n",
    "df['max_power']=df['max_power'].astype(\"float32\")\n",
    "print(df['max_power'].dtype)\n"
   ]
  },
  {
   "cell_type": "code",
   "execution_count": 386,
   "metadata": {},
   "outputs": [
    {
     "name": "stdout",
     "output_type": "stream",
     "text": [
      "object\n",
      "float32\n"
     ]
    }
   ],
   "source": [
    "'''engine'''\n",
    "\n",
    "print(df[\"engine\"].dtype)\n",
    "df['engine']=df['engine'].apply(fxn)\n",
    "#df['engine']=df['engine'].astype(\"float32\")\n",
    "corrupt=[]\n",
    "for i in range(len(df)):\n",
    "    try:\n",
    "            float(df.iloc[i,-3])\n",
    "    except:\n",
    "        corrupt.append(i)\n",
    "df=df.drop(index=corrupt)\n",
    "df=df.reset_index(drop=True)    \n",
    "\n",
    "df['engine']=df['engine'].astype(\"float32\")\n",
    "print(df['engine'].dtype)\n"
   ]
  },
  {
   "cell_type": "code",
   "execution_count": 387,
   "metadata": {},
   "outputs": [
    {
     "name": "stdout",
     "output_type": "stream",
     "text": [
      "object\n",
      "float32\n"
     ]
    }
   ],
   "source": [
    "'''Mileage'''\n",
    "\n",
    "print(df[\"mileage\"].dtype)\n",
    "df['mileage']=df['mileage'].apply(fxn)\n",
    "df['mileage']=df['mileage'].astype(\"float32\")\n",
    "print(df['mileage'].dtype)\n"
   ]
  },
  {
   "cell_type": "code",
   "execution_count": 388,
   "metadata": {},
   "outputs": [
    {
     "name": "stdout",
     "output_type": "stream",
     "text": [
      "First Owner             5214\n",
      "Second Owner            2015\n",
      "Third Owner              510\n",
      "Fifth                     86\n",
      "Fourth & Above Owner      74\n",
      "Test Drive Car             5\n",
      "Name: owner, dtype: int64\n",
      "object\n",
      "First Owner             5214\n",
      "Second Owner            2015\n",
      "Third Owner              510\n",
      "Fourth & Above Owner     160\n",
      "Test Drive Car             5\n",
      "Name: owner, dtype: int64\n",
      "First Owner             5214\n",
      "Second Owner            2015\n",
      "Third Owner              510\n",
      "Fourth & Above Owner     160\n",
      "Name: owner, dtype: int64\n"
     ]
    }
   ],
   "source": [
    "'''owner'''\n",
    "\n",
    "print(df[\"owner\"].value_counts())\n",
    "print(df['owner'].dtype)\n",
    "df['owner']=df['owner'].replace({\"Fifth\":\"Fourth & Above Owner\"})\n",
    "print(df['owner'].value_counts())\n",
    "\n",
    "# filtering\n",
    "\n",
    "f = df[\"owner\"] == \"Test Drive Car\"\n",
    "df = df.drop(index=df[f].index)\n",
    "df = df.reset_index(drop=True)\n",
    "print(df[\"owner\"].value_counts())"
   ]
  },
  {
   "cell_type": "code",
   "execution_count": 389,
   "metadata": {},
   "outputs": [
    {
     "name": "stdout",
     "output_type": "stream",
     "text": [
      "Manual       6862\n",
      "Automatic    1037\n",
      "Name: transmission, dtype: int64\n"
     ]
    }
   ],
   "source": [
    "'''transmission'''\n",
    "\n",
    "print(df[\"transmission\"].value_counts())"
   ]
  },
  {
   "cell_type": "code",
   "execution_count": 390,
   "metadata": {},
   "outputs": [
    {
     "name": "stdout",
     "output_type": "stream",
     "text": [
      "Individual          6561\n",
      "Dealer              1102\n",
      "Trustmark Dealer     236\n",
      "Name: seller_type, dtype: int64\n"
     ]
    },
    {
     "data": {
      "image/png": "[encoded data removed]",
      "text/plain": [
       "<Figure size 640x480 with 1 Axes>"
      ]
     },
     "metadata": {},
     "output_type": "display_data"
    },
    {
     "data": {
      "image/png": "[encoded data removed]",
      "text/plain": [
       "<Figure size 640x480 with 1 Axes>"
      ]
     },
     "metadata": {},
     "output_type": "display_data"
    },
    {
     "data": {
      "image/png": "[encoded data removed]",
      "text/plain": [
       "<Figure size 640x480 with 1 Axes>"
      ]
     },
     "metadata": {},
     "output_type": "display_data"
    }
   ],
   "source": [
    "'''seller type'''\n",
    "\n",
    "print(df[\"seller_type\"].value_counts())\n",
    "\n",
    "# filtering\n",
    "f = df[\"seller_type\"]==\"Individual\"\n",
    "data = df.loc[f,\"selling_price\"]\n",
    "plt.violinplot(data)\n",
    "plt.title(\"Individual\")\n",
    "plt.show()\n",
    "\n",
    "\n",
    "f = df[\"seller_type\"]==\"Dealer\"\n",
    "data1 = df.loc[f,\"selling_price\"]\n",
    "plt.violinplot(data1)\n",
    "plt.title(\"Dealer\")\n",
    "plt.show()\n",
    "\n",
    "\n",
    "f = df[\"seller_type\"]==\"Trustmark Dealer\"\n",
    "data2 = df.loc[f,\"selling_price\"]\n",
    "plt.violinplot(data2)\n",
    "plt.title(\"Trustmark Dealer\")\n",
    "plt.show()"
   ]
  },
  {
   "cell_type": "code",
   "execution_count": 391,
   "metadata": {},
   "outputs": [
    {
     "name": "stdout",
     "output_type": "stream",
     "text": [
      "Diesel    4298\n",
      "Petrol    3514\n",
      "CNG         52\n",
      "LPG         35\n",
      "Name: fuel, dtype: int64\n"
     ]
    },
    {
     "data": {
      "image/png": "[encoded data removed]",
      "text/plain": [
       "<Figure size 640x480 with 1 Axes>"
      ]
     },
     "metadata": {},
     "output_type": "display_data"
    },
    {
     "data": {
      "image/png": "[encoded data removed]",
      "text/plain": [
       "<Figure size 640x480 with 1 Axes>"
      ]
     },
     "metadata": {},
     "output_type": "display_data"
    },
    {
     "data": {
      "image/png": "[encoded data removed]",
      "text/plain": [
       "<Figure size 640x480 with 1 Axes>"
      ]
     },
     "metadata": {},
     "output_type": "display_data"
    },
    {
     "data": {
      "image/png": "[encoded data removed]",
      "text/plain": [
       "<Figure size 640x480 with 1 Axes>"
      ]
     },
     "metadata": {},
     "output_type": "display_data"
    }
   ],
   "source": [
    "'''fuel'''\n",
    "print(df[\"fuel\"].value_counts())\n",
    "\n",
    "\n",
    "f = df[\"fuel\"]==\"Diesel\"\n",
    "data2 = df.loc[f,\"selling_price\"]\n",
    "plt.violinplot(data2)\n",
    "plt.title(\"Diesel\")\n",
    "plt.show()\n",
    "\n",
    "f = df[\"fuel\"]==\"Petrol\"\n",
    "data2 = df.loc[f,\"selling_price\"]\n",
    "plt.violinplot(data2)\n",
    "plt.title(\"Petrol\")\n",
    "plt.show()\n",
    "\n",
    "f = df[\"fuel\"]==\"CNG\"\n",
    "data2 = df.loc[f,\"selling_price\"]\n",
    "plt.violinplot(data2)\n",
    "plt.title(\"CNG\")\n",
    "plt.show()\n",
    "\n",
    "f = df[\"fuel\"]==\"LPG\"\n",
    "data2 = df.loc[f,\"selling_price\"]\n",
    "plt.violinplot(data2)\n",
    "plt.title(\"LPG\")\n",
    "plt.show()\n",
    "\n",
    "df[\"fuel\"] = df[\"fuel\"].replace({\"Petrol\":0,\"Diesel\":0,\"CNG\":1,\"LPG\":1})"
   ]
  },
  {
   "cell_type": "code",
   "execution_count": 392,
   "metadata": {},
   "outputs": [
    {
     "data": {
      "image/png": "[encoded data removed]",
      "text/plain": [
       "<Figure size 640x480 with 1 Axes>"
      ]
     },
     "metadata": {},
     "output_type": "display_data"
    },
    {
     "data": {
      "image/png": "[encoded data removed]",
      "text/plain": [
       "<Figure size 640x480 with 1 Axes>"
      ]
     },
     "metadata": {},
     "output_type": "display_data"
    }
   ],
   "source": [
    "'''km_driven'''\n",
    "\n",
    "plt.hist(df[\"km_driven\"])\n",
    "plt.title(\"kmdriven vs selling price\")\n",
    "plt.xlabel(\"km\")\n",
    "plt.ylabel(\"sellling price\")\n",
    "plt.show()\n",
    "\n",
    "plt.scatter(df[\"km_driven\"],df[\"selling_price\"])\n",
    "plt.title(\"kmdriven vs selling price\")\n",
    "plt.xlabel(\"km\")\n",
    "plt.ylabel(\"sellling price\")\n",
    "plt.show()\n",
    "\n",
    "# will remove the outliers"
   ]
  },
  {
   "cell_type": "code",
   "execution_count": 393,
   "metadata": {},
   "outputs": [
    {
     "name": "stdout",
     "output_type": "stream",
     "text": [
      "31\n",
      "['Maruti' 'Skoda' 'Honda' 'Hyundai' 'Toyota' 'Ford' 'Renault' 'Mahindra'\n",
      " 'Tata' 'Chevrolet' 'Datsun' 'Jeep' 'Mercedes-Benz' 'Mitsubishi' 'Audi'\n",
      " 'Volkswagen' 'BMW' 'Nissan' 'Lexus' 'Jaguar' 'Land' 'MG' 'Volvo' 'Daewoo'\n",
      " 'Kia' 'Fiat' 'Force' 'Ambassador' 'Ashok' 'Isuzu' 'Opel']\n"
     ]
    }
   ],
   "source": [
    "'''name - important'''\n",
    "\n",
    "df[\"name\"].nunique()\n",
    "\n",
    "def convert(x):\n",
    "    temp = x.split()\n",
    "    return temp[0]\n",
    "\n",
    "df['name'] = df[\"name\"].apply(convert)\n",
    "\n",
    "print(df[\"name\"].nunique())\n",
    "print(df[\"name\"].unique())\n",
    "\n",
    "avg_of_brand = df.groupby(\"name\")[\"selling_price\"].mean()\n",
    "avg_of_brand = avg_of_brand.sort_values(ascending=False)"
   ]
  },
  {
   "cell_type": "code",
   "execution_count": 394,
   "metadata": {},
   "outputs": [],
   "source": [
    "def changer(x):\n",
    "    if x in avg_of_brand[0:10]:\n",
    "        return 0\n",
    "    elif x in avg_of_brand[10:20]:\n",
    "        return 1\n",
    "    elif x in avg_of_brand[20:]:\n",
    "        return 2\n",
    "\n",
    "df[\"name\"] = df[\"name\"].apply(changer)\n",
    "df[\"name\"].value_counts()"
   ]
  },
  {
   "cell_type": "code",
   "execution_count": 396,
   "metadata": {},
   "outputs": [
    {
     "data": {
      "text/html": [
       "<div>\n",
       "<style scoped>\n",
       "    .dataframe tbody tr th:only-of-type {\n",
       "        vertical-align: middle;\n",
       "    }\n",
       "\n",
       "    .dataframe tbody tr th {\n",
       "        vertical-align: top;\n",
       "    }\n",
       "\n",
       "    .dataframe thead th {\n",
       "        text-align: right;\n",
       "    }\n",
       "</style>\n",
       "<table border=\"1\" class=\"dataframe\">\n",
       "  <thead>\n",
       "    <tr style=\"text-align: right;\">\n",
       "      <th></th>\n",
       "      <th>Unnamed: 0</th>\n",
       "      <th>name</th>\n",
       "      <th>year</th>\n",
       "      <th>selling_price</th>\n",
       "      <th>km_driven</th>\n",
       "      <th>fuel</th>\n",
       "      <th>seller_type</th>\n",
       "      <th>transmission</th>\n",
       "      <th>owner</th>\n",
       "      <th>mileage</th>\n",
       "      <th>engine</th>\n",
       "      <th>max_power</th>\n",
       "      <th>seats</th>\n",
       "    </tr>\n",
       "  </thead>\n",
       "  <tbody>\n",
       "    <tr>\n",
       "      <th>0</th>\n",
       "      <td>0</td>\n",
       "      <td>2</td>\n",
       "      <td>2014</td>\n",
       "      <td>450000</td>\n",
       "      <td>145500</td>\n",
       "      <td>0</td>\n",
       "      <td>Individual</td>\n",
       "      <td>Manual</td>\n",
       "      <td>First Owner</td>\n",
       "      <td>23.400000</td>\n",
       "      <td>1248.0</td>\n",
       "      <td>74.000000</td>\n",
       "      <td>5.0</td>\n",
       "    </tr>\n",
       "    <tr>\n",
       "      <th>1</th>\n",
       "      <td>1</td>\n",
       "      <td>1</td>\n",
       "      <td>2014</td>\n",
       "      <td>370000</td>\n",
       "      <td>120000</td>\n",
       "      <td>0</td>\n",
       "      <td>Individual</td>\n",
       "      <td>Manual</td>\n",
       "      <td>Second Owner</td>\n",
       "      <td>21.139999</td>\n",
       "      <td>1498.0</td>\n",
       "      <td>103.519997</td>\n",
       "      <td>5.0</td>\n",
       "    </tr>\n",
       "    <tr>\n",
       "      <th>2</th>\n",
       "      <td>2</td>\n",
       "      <td>1</td>\n",
       "      <td>2006</td>\n",
       "      <td>158000</td>\n",
       "      <td>140000</td>\n",
       "      <td>0</td>\n",
       "      <td>Individual</td>\n",
       "      <td>Manual</td>\n",
       "      <td>Third Owner</td>\n",
       "      <td>17.700001</td>\n",
       "      <td>1497.0</td>\n",
       "      <td>78.000000</td>\n",
       "      <td>5.0</td>\n",
       "    </tr>\n",
       "    <tr>\n",
       "      <th>3</th>\n",
       "      <td>3</td>\n",
       "      <td>1</td>\n",
       "      <td>2010</td>\n",
       "      <td>225000</td>\n",
       "      <td>127000</td>\n",
       "      <td>0</td>\n",
       "      <td>Individual</td>\n",
       "      <td>Manual</td>\n",
       "      <td>First Owner</td>\n",
       "      <td>23.000000</td>\n",
       "      <td>1396.0</td>\n",
       "      <td>90.000000</td>\n",
       "      <td>5.0</td>\n",
       "    </tr>\n",
       "    <tr>\n",
       "      <th>4</th>\n",
       "      <td>4</td>\n",
       "      <td>2</td>\n",
       "      <td>2007</td>\n",
       "      <td>130000</td>\n",
       "      <td>120000</td>\n",
       "      <td>0</td>\n",
       "      <td>Individual</td>\n",
       "      <td>Manual</td>\n",
       "      <td>First Owner</td>\n",
       "      <td>16.100000</td>\n",
       "      <td>1298.0</td>\n",
       "      <td>88.199997</td>\n",
       "      <td>5.0</td>\n",
       "    </tr>\n",
       "  </tbody>\n",
       "</table>\n",
       "</div>"
      ],
      "text/plain": [
       "   Unnamed: 0  name  year  selling_price  km_driven  fuel seller_type  \\\n",
       "0           0     2  2014         450000     145500     0  Individual   \n",
       "1           1     1  2014         370000     120000     0  Individual   \n",
       "2           2     1  2006         158000     140000     0  Individual   \n",
       "3           3     1  2010         225000     127000     0  Individual   \n",
       "4           4     2  2007         130000     120000     0  Individual   \n",
       "\n",
       "  transmission         owner    mileage  engine   max_power  seats  \n",
       "0       Manual   First Owner  23.400000  1248.0   74.000000    5.0  \n",
       "1       Manual  Second Owner  21.139999  1498.0  103.519997    5.0  \n",
       "2       Manual   Third Owner  17.700001  1497.0   78.000000    5.0  \n",
       "3       Manual   First Owner  23.000000  1396.0   90.000000    5.0  \n",
       "4       Manual   First Owner  16.100000  1298.0   88.199997    5.0  "
      ]
     },
     "execution_count": 396,
     "metadata": {},
     "output_type": "execute_result"
    }
   ],
   "source": [
    "df.head()"
   ]
  },
  {
   "cell_type": "markdown",
   "metadata": {},
   "source": [
    "# **Feature Selection**"
   ]
  },
  {
   "cell_type": "code",
   "execution_count": 398,
   "metadata": {},
   "outputs": [],
   "source": [
    "df.drop(columns=[\"Unnamed: 0\"],inplace=True)"
   ]
  },
  {
   "cell_type": "code",
   "execution_count": 399,
   "metadata": {},
   "outputs": [],
   "source": [
    "numeric = df[[\"max_power\",\"engine\",\"mileage\",\"km_driven\",\"selling_price\",\"year\"]]\n",
    "categorical = df[[\"name\",\"fuel\",\"seller_type\",\"transmission\",\"owner\",\"seats\"]]"
   ]
  },
  {
   "cell_type": "code",
   "execution_count": 401,
   "metadata": {},
   "outputs": [
    {
     "name": "stdout",
     "output_type": "stream",
     "text": [
      "               max_power    engine   mileage  km_driven  selling_price  \\\n",
      "max_power       1.000000  0.704240 -0.374148  -0.036686       0.750335   \n",
      "engine          0.704240  1.000000 -0.576354   0.207376       0.457972   \n",
      "mileage        -0.374148 -0.576354  1.000000  -0.173624      -0.124687   \n",
      "km_driven      -0.036686  0.207376 -0.173624   1.000000      -0.221519   \n",
      "selling_price   0.750335  0.457972 -0.124687  -0.221519       1.000000   \n",
      "year            0.225322  0.017638  0.329372  -0.428540       0.412465   \n",
      "\n",
      "                   year  \n",
      "max_power      0.225322  \n",
      "engine         0.017638  \n",
      "mileage        0.329372  \n",
      "km_driven     -0.428540  \n",
      "selling_price  0.412465  \n",
      "year           1.000000  \n"
     ]
    },
    {
     "data": {
      "image/png": "[encoded data removed]",
      "text/plain": [
       "<Figure size 640x480 with 2 Axes>"
      ]
     },
     "metadata": {},
     "output_type": "display_data"
    }
   ],
   "source": [
    "print(numeric.corr())\n",
    "sns.heatmap(numeric.corr())\n",
    "plt.show()"
   ]
  },
  {
   "cell_type": "markdown",
   "metadata": {},
   "source": [
    "it means all columns are important"
   ]
  },
  {
   "cell_type": "markdown",
   "metadata": {},
   "source": [
    "# **Encoding for categorical column**"
   ]
  },
  {
   "cell_type": "code",
   "execution_count": 402,
   "metadata": {},
   "outputs": [
    {
     "data": {
      "text/plain": [
       "array(['Individual', 'Dealer', 'Trustmark Dealer'], dtype=object)"
      ]
     },
     "execution_count": 402,
     "metadata": {},
     "output_type": "execute_result"
    }
   ],
   "source": [
    "df[\"seller_type\"].unique()"
   ]
  },
  {
   "cell_type": "code",
   "execution_count": 403,
   "metadata": {},
   "outputs": [],
   "source": [
    "from sklearn.preprocessing import LabelEncoder\n",
    "le = LabelEncoder()\n",
    "le1 = LabelEncoder()\n",
    "categorical[\"owner\"] =le.fit_transform(categorical[\"owner\"])\n",
    "categorical[\"transmission\"] = le1.fit_transform(categorical[\"transmission\"])"
   ]
  },
  {
   "cell_type": "code",
   "execution_count": 404,
   "metadata": {},
   "outputs": [],
   "source": [
    "from sklearn.preprocessing import OneHotEncoder\n",
    "from sklearn.compose import ColumnTransformer\n",
    "\n",
    "ct = ColumnTransformer(transformers=[(\"encode\",OneHotEncoder(drop=\"first\",sparse=False),[2])],remainder=\"passthrough\")\n",
    "categorical = ct.fit_transform(categorical)"
   ]
  },
  {
   "cell_type": "code",
   "execution_count": 405,
   "metadata": {},
   "outputs": [
    {
     "data": {
      "text/plain": [
       "array([[1., 0., 2., ..., 1., 0., 5.],\n",
       "       [1., 0., 1., ..., 1., 2., 5.],\n",
       "       [1., 0., 1., ..., 1., 3., 5.],\n",
       "       ...,\n",
       "       [1., 0., 2., ..., 1., 0., 5.],\n",
       "       [1., 0., 2., ..., 1., 0., 5.],\n",
       "       [1., 0., 2., ..., 1., 0., 5.]])"
      ]
     },
     "execution_count": 405,
     "metadata": {},
     "output_type": "execute_result"
    }
   ],
   "source": [
    "categorical"
   ]
  },
  {
   "cell_type": "code",
   "execution_count": 406,
   "metadata": {},
   "outputs": [],
   "source": [
    "categorical = pd.DataFrame(categorical)"
   ]
  },
  {
   "cell_type": "markdown",
   "metadata": {},
   "source": [
    "# **Feature Selection**\n"
   ]
  },
  {
   "cell_type": "code",
   "execution_count": 408,
   "metadata": {},
   "outputs": [
    {
     "name": "stdout",
     "output_type": "stream",
     "text": [
      "F values\n",
      " [ 6.988322    6.69782293  8.20570901  1.66252386 12.03276301  3.40499271\n",
      "  2.66180735]\n"
     ]
    }
   ],
   "source": [
    "# ANOVA Test\n",
    "from sklearn.feature_selection import SelectKBest,f_classif\n",
    "kbest = SelectKBest(f_classif,k=categorical.shape[1])\n",
    "kbest.fit_transform(categorical,numeric['selling_price'])\n",
    "print(\"F values\\n\",kbest.scores_)"
   ]
  },
  {
   "cell_type": "markdown",
   "metadata": {},
   "source": [
    "# **Outlier Detection**"
   ]
  },
  {
   "cell_type": "code",
   "execution_count": 409,
   "metadata": {},
   "outputs": [
    {
     "data": {
      "text/html": [
       "<div>\n",
       "<style scoped>\n",
       "    .dataframe tbody tr th:only-of-type {\n",
       "        vertical-align: middle;\n",
       "    }\n",
       "\n",
       "    .dataframe tbody tr th {\n",
       "        vertical-align: top;\n",
       "    }\n",
       "\n",
       "    .dataframe thead th {\n",
       "        text-align: right;\n",
       "    }\n",
       "</style>\n",
       "<table border=\"1\" class=\"dataframe\">\n",
       "  <thead>\n",
       "    <tr style=\"text-align: right;\">\n",
       "      <th></th>\n",
       "      <th>max_power</th>\n",
       "      <th>engine</th>\n",
       "      <th>mileage</th>\n",
       "      <th>km_driven</th>\n",
       "      <th>selling_price</th>\n",
       "      <th>year</th>\n",
       "    </tr>\n",
       "  </thead>\n",
       "  <tbody>\n",
       "    <tr>\n",
       "      <th>0</th>\n",
       "      <td>74.000000</td>\n",
       "      <td>1248.0</td>\n",
       "      <td>23.400000</td>\n",
       "      <td>145500</td>\n",
       "      <td>450000</td>\n",
       "      <td>2014</td>\n",
       "    </tr>\n",
       "    <tr>\n",
       "      <th>1</th>\n",
       "      <td>103.519997</td>\n",
       "      <td>1498.0</td>\n",
       "      <td>21.139999</td>\n",
       "      <td>120000</td>\n",
       "      <td>370000</td>\n",
       "      <td>2014</td>\n",
       "    </tr>\n",
       "    <tr>\n",
       "      <th>2</th>\n",
       "      <td>78.000000</td>\n",
       "      <td>1497.0</td>\n",
       "      <td>17.700001</td>\n",
       "      <td>140000</td>\n",
       "      <td>158000</td>\n",
       "      <td>2006</td>\n",
       "    </tr>\n",
       "    <tr>\n",
       "      <th>3</th>\n",
       "      <td>90.000000</td>\n",
       "      <td>1396.0</td>\n",
       "      <td>23.000000</td>\n",
       "      <td>127000</td>\n",
       "      <td>225000</td>\n",
       "      <td>2010</td>\n",
       "    </tr>\n",
       "    <tr>\n",
       "      <th>4</th>\n",
       "      <td>88.199997</td>\n",
       "      <td>1298.0</td>\n",
       "      <td>16.100000</td>\n",
       "      <td>120000</td>\n",
       "      <td>130000</td>\n",
       "      <td>2007</td>\n",
       "    </tr>\n",
       "    <tr>\n",
       "      <th>...</th>\n",
       "      <td>...</td>\n",
       "      <td>...</td>\n",
       "      <td>...</td>\n",
       "      <td>...</td>\n",
       "      <td>...</td>\n",
       "      <td>...</td>\n",
       "    </tr>\n",
       "    <tr>\n",
       "      <th>7894</th>\n",
       "      <td>82.849998</td>\n",
       "      <td>1197.0</td>\n",
       "      <td>18.500000</td>\n",
       "      <td>110000</td>\n",
       "      <td>320000</td>\n",
       "      <td>2013</td>\n",
       "    </tr>\n",
       "    <tr>\n",
       "      <th>7895</th>\n",
       "      <td>110.000000</td>\n",
       "      <td>1493.0</td>\n",
       "      <td>16.799999</td>\n",
       "      <td>119000</td>\n",
       "      <td>135000</td>\n",
       "      <td>2007</td>\n",
       "    </tr>\n",
       "    <tr>\n",
       "      <th>7896</th>\n",
       "      <td>73.900002</td>\n",
       "      <td>1248.0</td>\n",
       "      <td>19.299999</td>\n",
       "      <td>120000</td>\n",
       "      <td>382000</td>\n",
       "      <td>2009</td>\n",
       "    </tr>\n",
       "    <tr>\n",
       "      <th>7897</th>\n",
       "      <td>70.000000</td>\n",
       "      <td>1396.0</td>\n",
       "      <td>23.570000</td>\n",
       "      <td>25000</td>\n",
       "      <td>290000</td>\n",
       "      <td>2013</td>\n",
       "    </tr>\n",
       "    <tr>\n",
       "      <th>7898</th>\n",
       "      <td>70.000000</td>\n",
       "      <td>1396.0</td>\n",
       "      <td>23.570000</td>\n",
       "      <td>25000</td>\n",
       "      <td>290000</td>\n",
       "      <td>2013</td>\n",
       "    </tr>\n",
       "  </tbody>\n",
       "</table>\n",
       "<p>7899 rows × 6 columns</p>\n",
       "</div>"
      ],
      "text/plain": [
       "       max_power  engine    mileage  km_driven  selling_price  year\n",
       "0      74.000000  1248.0  23.400000     145500         450000  2014\n",
       "1     103.519997  1498.0  21.139999     120000         370000  2014\n",
       "2      78.000000  1497.0  17.700001     140000         158000  2006\n",
       "3      90.000000  1396.0  23.000000     127000         225000  2010\n",
       "4      88.199997  1298.0  16.100000     120000         130000  2007\n",
       "...          ...     ...        ...        ...            ...   ...\n",
       "7894   82.849998  1197.0  18.500000     110000         320000  2013\n",
       "7895  110.000000  1493.0  16.799999     119000         135000  2007\n",
       "7896   73.900002  1248.0  19.299999     120000         382000  2009\n",
       "7897   70.000000  1396.0  23.570000      25000         290000  2013\n",
       "7898   70.000000  1396.0  23.570000      25000         290000  2013\n",
       "\n",
       "[7899 rows x 6 columns]"
      ]
     },
     "execution_count": 409,
     "metadata": {},
     "output_type": "execute_result"
    }
   ],
   "source": [
    "numeric"
   ]
  },
  {
   "cell_type": "code",
   "execution_count": 410,
   "metadata": {},
   "outputs": [
    {
     "data": {
      "image/png": "[encoded data removed]",
      "text/plain": [
       "<Figure size 640x480 with 1 Axes>"
      ]
     },
     "metadata": {},
     "output_type": "display_data"
    },
    {
     "data": {
      "image/png": "[encoded data removed]",
      "text/plain": [
       "<Figure size 640x480 with 1 Axes>"
      ]
     },
     "metadata": {},
     "output_type": "display_data"
    },
    {
     "data": {
      "image/png": "[encoded data removed]",
      "text/plain": [
       "<Figure size 640x480 with 1 Axes>"
      ]
     },
     "metadata": {},
     "output_type": "display_data"
    },
    {
     "data": {
      "image/png": "[encoded data removed]",
      "text/plain": [
       "<Figure size 640x480 with 1 Axes>"
      ]
     },
     "metadata": {},
     "output_type": "display_data"
    }
   ],
   "source": [
    "# histogram\n",
    "plt.hist(numeric[\"max_power\"])\n",
    "plt.title(\"Max power\")\n",
    "plt.show()\n",
    "\n",
    "plt.hist(numeric[\"engine\"])\n",
    "plt.title(\"engine\")\n",
    "plt.show()\n",
    "\n",
    "plt.hist(numeric[\"mileage\"])\n",
    "plt.title(\"mileage\")\n",
    "plt.show()\n",
    "\n",
    "plt.hist(numeric[\"km_driven\"])\n",
    "plt.title(\"km_driven\")\n",
    "plt.show()"
   ]
  },
  {
   "cell_type": "code",
   "execution_count": 411,
   "metadata": {},
   "outputs": [],
   "source": [
    "def z_score(x):\n",
    "    mean = np.mean(x)\n",
    "    std = np.std(x)\n",
    "    Z=(x-mean)/std\n",
    "    z = Z.abs()\n",
    "    return x[Z>3]\n",
    "\n",
    "# Detection of outliers\n",
    "outliers1 = z_score(numeric['mileage'])\n",
    "outliers2 = z_score(numeric[\"max_power\"])\n",
    "outliers3 = z_score(numeric[\"km_driven\"])"
   ]
  },
  {
   "cell_type": "markdown",
   "metadata": {},
   "source": [
    "# **Scaling**"
   ]
  },
  {
   "cell_type": "code",
   "execution_count": 412,
   "metadata": {},
   "outputs": [],
   "source": [
    "from sklearn.preprocessing import MinMaxScaler\n",
    "minmax=MinMaxScaler()\n",
    "data=minmax.fit_transform(numeric[['engine','selling_price']])"
   ]
  },
  {
   "cell_type": "code",
   "execution_count": 413,
   "metadata": {},
   "outputs": [
    {
     "data": {
      "text/plain": [
       "[<matplotlib.lines.Line2D at 0x1a16307e7d0>]"
      ]
     },
     "execution_count": 413,
     "metadata": {},
     "output_type": "execute_result"
    },
    {
     "data": {
      "image/png": "[encoded data removed]",
      "text/plain": [
       "<Figure size 640x480 with 1 Axes>"
      ]
     },
     "metadata": {},
     "output_type": "display_data"
    }
   ],
   "source": [
    "# k distance graph to find perfect value of epsilon\n",
    "from sklearn.neighbors import NearestNeighbors\n",
    "neigh=NearestNeighbors(n_neighbors=2)\n",
    "n=neigh.fit(data)\n",
    "\n",
    "distance,index=n.kneighbors(data)\n",
    "\n",
    "distance=distance[:,-1]\n",
    "distance.sort()\n",
    "\n",
    "plt.plot(distance)\n"
   ]
  },
  {
   "cell_type": "code",
   "execution_count": 414,
   "metadata": {},
   "outputs": [],
   "source": [
    "from sklearn.cluster import DBSCAN\n",
    "\n",
    "model = DBSCAN(eps=0.04,min_samples=2)\n",
    "model.fit(data)\n",
    "\n",
    "# creating an outlier dataframe\n",
    "outliers4 = pd.DataFrame(data[model.labels_ == -1])\n",
    "outliers5 = outliers4[1]\n",
    "outliers4 = outliers4[0]"
   ]
  },
  {
   "cell_type": "code",
   "execution_count": 416,
   "metadata": {},
   "outputs": [],
   "source": [
    "# Removing the outliers\n",
    "numeric = numeric[~numeric['mileage'].isin(outliers1)]\n",
    "numeric = numeric[~numeric['max_power'].isin(outliers2)]\n",
    "numeric = numeric[~numeric['km_driven'].isin(outliers3)]\n",
    "numeric = numeric[~numeric['engine'].isin(outliers4)]\n",
    "numeric = numeric[~numeric['selling_price'].isin(outliers4)]"
   ]
  },
  {
   "cell_type": "code",
   "execution_count": 417,
   "metadata": {},
   "outputs": [],
   "source": [
    "# Removing correspond rows from the categorical columns\n",
    "categorical = categorical[categorical.index.isin(numeric.index)]"
   ]
  },
  {
   "cell_type": "code",
   "execution_count": 418,
   "metadata": {},
   "outputs": [
    {
     "name": "stdout",
     "output_type": "stream",
     "text": [
      "    max_power  engine    mileage  km_driven  selling_price  year\n",
      "0   74.000000  1248.0  23.400000     145500         450000  2014\n",
      "1  103.519997  1498.0  21.139999     120000         370000  2014\n",
      "2   78.000000  1497.0  17.700001     140000         158000  2006\n",
      "3   90.000000  1396.0  23.000000     127000         225000  2010\n",
      "4   88.199997  1298.0  16.100000     120000         130000  2007\n",
      "     0    1    2    3    4    5    6\n",
      "0  1.0  0.0  2.0  0.0  1.0  0.0  5.0\n",
      "1  1.0  0.0  1.0  0.0  1.0  2.0  5.0\n",
      "2  1.0  0.0  1.0  0.0  1.0  3.0  5.0\n",
      "3  1.0  0.0  1.0  0.0  1.0  0.0  5.0\n",
      "4  1.0  0.0  2.0  0.0  1.0  0.0  5.0\n"
     ]
    }
   ],
   "source": [
    "print(numeric.head())\n",
    "print(categorical.head())"
   ]
  },
  {
   "cell_type": "code",
   "execution_count": 419,
   "metadata": {},
   "outputs": [],
   "source": [
    "df = pd.concat([numeric,categorical],axis=1,join='inner')"
   ]
  },
  {
   "cell_type": "code",
   "execution_count": 420,
   "metadata": {},
   "outputs": [
    {
     "data": {
      "text/html": [
       "<div>\n",
       "<style scoped>\n",
       "    .dataframe tbody tr th:only-of-type {\n",
       "        vertical-align: middle;\n",
       "    }\n",
       "\n",
       "    .dataframe tbody tr th {\n",
       "        vertical-align: top;\n",
       "    }\n",
       "\n",
       "    .dataframe thead th {\n",
       "        text-align: right;\n",
       "    }\n",
       "</style>\n",
       "<table border=\"1\" class=\"dataframe\">\n",
       "  <thead>\n",
       "    <tr style=\"text-align: right;\">\n",
       "      <th></th>\n",
       "      <th>max_power</th>\n",
       "      <th>engine</th>\n",
       "      <th>mileage</th>\n",
       "      <th>km_driven</th>\n",
       "      <th>selling_price</th>\n",
       "      <th>year</th>\n",
       "      <th>0</th>\n",
       "      <th>1</th>\n",
       "      <th>2</th>\n",
       "      <th>3</th>\n",
       "      <th>4</th>\n",
       "      <th>5</th>\n",
       "      <th>6</th>\n",
       "    </tr>\n",
       "  </thead>\n",
       "  <tbody>\n",
       "    <tr>\n",
       "      <th>0</th>\n",
       "      <td>74.000000</td>\n",
       "      <td>1248.0</td>\n",
       "      <td>23.400000</td>\n",
       "      <td>145500</td>\n",
       "      <td>450000</td>\n",
       "      <td>2014</td>\n",
       "      <td>1.0</td>\n",
       "      <td>0.0</td>\n",
       "      <td>2.0</td>\n",
       "      <td>0.0</td>\n",
       "      <td>1.0</td>\n",
       "      <td>0.0</td>\n",
       "      <td>5.0</td>\n",
       "    </tr>\n",
       "    <tr>\n",
       "      <th>1</th>\n",
       "      <td>103.519997</td>\n",
       "      <td>1498.0</td>\n",
       "      <td>21.139999</td>\n",
       "      <td>120000</td>\n",
       "      <td>370000</td>\n",
       "      <td>2014</td>\n",
       "      <td>1.0</td>\n",
       "      <td>0.0</td>\n",
       "      <td>1.0</td>\n",
       "      <td>0.0</td>\n",
       "      <td>1.0</td>\n",
       "      <td>2.0</td>\n",
       "      <td>5.0</td>\n",
       "    </tr>\n",
       "    <tr>\n",
       "      <th>2</th>\n",
       "      <td>78.000000</td>\n",
       "      <td>1497.0</td>\n",
       "      <td>17.700001</td>\n",
       "      <td>140000</td>\n",
       "      <td>158000</td>\n",
       "      <td>2006</td>\n",
       "      <td>1.0</td>\n",
       "      <td>0.0</td>\n",
       "      <td>1.0</td>\n",
       "      <td>0.0</td>\n",
       "      <td>1.0</td>\n",
       "      <td>3.0</td>\n",
       "      <td>5.0</td>\n",
       "    </tr>\n",
       "    <tr>\n",
       "      <th>3</th>\n",
       "      <td>90.000000</td>\n",
       "      <td>1396.0</td>\n",
       "      <td>23.000000</td>\n",
       "      <td>127000</td>\n",
       "      <td>225000</td>\n",
       "      <td>2010</td>\n",
       "      <td>1.0</td>\n",
       "      <td>0.0</td>\n",
       "      <td>1.0</td>\n",
       "      <td>0.0</td>\n",
       "      <td>1.0</td>\n",
       "      <td>0.0</td>\n",
       "      <td>5.0</td>\n",
       "    </tr>\n",
       "    <tr>\n",
       "      <th>4</th>\n",
       "      <td>88.199997</td>\n",
       "      <td>1298.0</td>\n",
       "      <td>16.100000</td>\n",
       "      <td>120000</td>\n",
       "      <td>130000</td>\n",
       "      <td>2007</td>\n",
       "      <td>1.0</td>\n",
       "      <td>0.0</td>\n",
       "      <td>2.0</td>\n",
       "      <td>0.0</td>\n",
       "      <td>1.0</td>\n",
       "      <td>0.0</td>\n",
       "      <td>5.0</td>\n",
       "    </tr>\n",
       "  </tbody>\n",
       "</table>\n",
       "</div>"
      ],
      "text/plain": [
       "    max_power  engine    mileage  km_driven  selling_price  year    0    1  \\\n",
       "0   74.000000  1248.0  23.400000     145500         450000  2014  1.0  0.0   \n",
       "1  103.519997  1498.0  21.139999     120000         370000  2014  1.0  0.0   \n",
       "2   78.000000  1497.0  17.700001     140000         158000  2006  1.0  0.0   \n",
       "3   90.000000  1396.0  23.000000     127000         225000  2010  1.0  0.0   \n",
       "4   88.199997  1298.0  16.100000     120000         130000  2007  1.0  0.0   \n",
       "\n",
       "     2    3    4    5    6  \n",
       "0  2.0  0.0  1.0  0.0  5.0  \n",
       "1  1.0  0.0  1.0  2.0  5.0  \n",
       "2  1.0  0.0  1.0  3.0  5.0  \n",
       "3  1.0  0.0  1.0  0.0  5.0  \n",
       "4  2.0  0.0  1.0  0.0  5.0  "
      ]
     },
     "execution_count": 420,
     "metadata": {},
     "output_type": "execute_result"
    }
   ],
   "source": [
    "df.head()"
   ]
  },
  {
   "cell_type": "markdown",
   "metadata": {},
   "source": [
    "# **Dependent and independent Variable**"
   ]
  },
  {
   "cell_type": "code",
   "execution_count": 421,
   "metadata": {},
   "outputs": [
    {
     "data": {
      "text/plain": [
       "Index([    'max_power',        'engine',       'mileage',     'km_driven',\n",
       "       'selling_price',          'year',               0,               1,\n",
       "                     2,               3,               4,               5,\n",
       "                     6],\n",
       "      dtype='object')"
      ]
     },
     "execution_count": 421,
     "metadata": {},
     "output_type": "execute_result"
    }
   ],
   "source": [
    "df.columns"
   ]
  },
  {
   "cell_type": "code",
   "execution_count": 422,
   "metadata": {},
   "outputs": [],
   "source": [
    "X = df.drop(columns=['selling_price'],axis=1)\n",
    "y = df['selling_price']"
   ]
  },
  {
   "cell_type": "code",
   "execution_count": 426,
   "metadata": {},
   "outputs": [
    {
     "data": {
      "text/html": [
       "<div>\n",
       "<style scoped>\n",
       "    .dataframe tbody tr th:only-of-type {\n",
       "        vertical-align: middle;\n",
       "    }\n",
       "\n",
       "    .dataframe tbody tr th {\n",
       "        vertical-align: top;\n",
       "    }\n",
       "\n",
       "    .dataframe thead th {\n",
       "        text-align: right;\n",
       "    }\n",
       "</style>\n",
       "<table border=\"1\" class=\"dataframe\">\n",
       "  <thead>\n",
       "    <tr style=\"text-align: right;\">\n",
       "      <th></th>\n",
       "      <th>max_power</th>\n",
       "      <th>engine</th>\n",
       "      <th>mileage</th>\n",
       "      <th>km_driven</th>\n",
       "      <th>year</th>\n",
       "      <th>0</th>\n",
       "      <th>1</th>\n",
       "      <th>2</th>\n",
       "      <th>3</th>\n",
       "      <th>4</th>\n",
       "      <th>5</th>\n",
       "      <th>6</th>\n",
       "    </tr>\n",
       "  </thead>\n",
       "  <tbody>\n",
       "    <tr>\n",
       "      <th>0</th>\n",
       "      <td>74.000000</td>\n",
       "      <td>1248.0</td>\n",
       "      <td>23.400000</td>\n",
       "      <td>145500</td>\n",
       "      <td>2014</td>\n",
       "      <td>1.0</td>\n",
       "      <td>0.0</td>\n",
       "      <td>2.0</td>\n",
       "      <td>0.0</td>\n",
       "      <td>1.0</td>\n",
       "      <td>0.0</td>\n",
       "      <td>5.0</td>\n",
       "    </tr>\n",
       "    <tr>\n",
       "      <th>1</th>\n",
       "      <td>103.519997</td>\n",
       "      <td>1498.0</td>\n",
       "      <td>21.139999</td>\n",
       "      <td>120000</td>\n",
       "      <td>2014</td>\n",
       "      <td>1.0</td>\n",
       "      <td>0.0</td>\n",
       "      <td>1.0</td>\n",
       "      <td>0.0</td>\n",
       "      <td>1.0</td>\n",
       "      <td>2.0</td>\n",
       "      <td>5.0</td>\n",
       "    </tr>\n",
       "    <tr>\n",
       "      <th>2</th>\n",
       "      <td>78.000000</td>\n",
       "      <td>1497.0</td>\n",
       "      <td>17.700001</td>\n",
       "      <td>140000</td>\n",
       "      <td>2006</td>\n",
       "      <td>1.0</td>\n",
       "      <td>0.0</td>\n",
       "      <td>1.0</td>\n",
       "      <td>0.0</td>\n",
       "      <td>1.0</td>\n",
       "      <td>3.0</td>\n",
       "      <td>5.0</td>\n",
       "    </tr>\n",
       "    <tr>\n",
       "      <th>3</th>\n",
       "      <td>90.000000</td>\n",
       "      <td>1396.0</td>\n",
       "      <td>23.000000</td>\n",
       "      <td>127000</td>\n",
       "      <td>2010</td>\n",
       "      <td>1.0</td>\n",
       "      <td>0.0</td>\n",
       "      <td>1.0</td>\n",
       "      <td>0.0</td>\n",
       "      <td>1.0</td>\n",
       "      <td>0.0</td>\n",
       "      <td>5.0</td>\n",
       "    </tr>\n",
       "    <tr>\n",
       "      <th>4</th>\n",
       "      <td>88.199997</td>\n",
       "      <td>1298.0</td>\n",
       "      <td>16.100000</td>\n",
       "      <td>120000</td>\n",
       "      <td>2007</td>\n",
       "      <td>1.0</td>\n",
       "      <td>0.0</td>\n",
       "      <td>2.0</td>\n",
       "      <td>0.0</td>\n",
       "      <td>1.0</td>\n",
       "      <td>0.0</td>\n",
       "      <td>5.0</td>\n",
       "    </tr>\n",
       "    <tr>\n",
       "      <th>...</th>\n",
       "      <td>...</td>\n",
       "      <td>...</td>\n",
       "      <td>...</td>\n",
       "      <td>...</td>\n",
       "      <td>...</td>\n",
       "      <td>...</td>\n",
       "      <td>...</td>\n",
       "      <td>...</td>\n",
       "      <td>...</td>\n",
       "      <td>...</td>\n",
       "      <td>...</td>\n",
       "      <td>...</td>\n",
       "    </tr>\n",
       "    <tr>\n",
       "      <th>7894</th>\n",
       "      <td>82.849998</td>\n",
       "      <td>1197.0</td>\n",
       "      <td>18.500000</td>\n",
       "      <td>110000</td>\n",
       "      <td>2013</td>\n",
       "      <td>1.0</td>\n",
       "      <td>0.0</td>\n",
       "      <td>1.0</td>\n",
       "      <td>0.0</td>\n",
       "      <td>1.0</td>\n",
       "      <td>0.0</td>\n",
       "      <td>5.0</td>\n",
       "    </tr>\n",
       "    <tr>\n",
       "      <th>7895</th>\n",
       "      <td>110.000000</td>\n",
       "      <td>1493.0</td>\n",
       "      <td>16.799999</td>\n",
       "      <td>119000</td>\n",
       "      <td>2007</td>\n",
       "      <td>1.0</td>\n",
       "      <td>0.0</td>\n",
       "      <td>1.0</td>\n",
       "      <td>0.0</td>\n",
       "      <td>1.0</td>\n",
       "      <td>1.0</td>\n",
       "      <td>5.0</td>\n",
       "    </tr>\n",
       "    <tr>\n",
       "      <th>7896</th>\n",
       "      <td>73.900002</td>\n",
       "      <td>1248.0</td>\n",
       "      <td>19.299999</td>\n",
       "      <td>120000</td>\n",
       "      <td>2009</td>\n",
       "      <td>1.0</td>\n",
       "      <td>0.0</td>\n",
       "      <td>2.0</td>\n",
       "      <td>0.0</td>\n",
       "      <td>1.0</td>\n",
       "      <td>0.0</td>\n",
       "      <td>5.0</td>\n",
       "    </tr>\n",
       "    <tr>\n",
       "      <th>7897</th>\n",
       "      <td>70.000000</td>\n",
       "      <td>1396.0</td>\n",
       "      <td>23.570000</td>\n",
       "      <td>25000</td>\n",
       "      <td>2013</td>\n",
       "      <td>1.0</td>\n",
       "      <td>0.0</td>\n",
       "      <td>2.0</td>\n",
       "      <td>0.0</td>\n",
       "      <td>1.0</td>\n",
       "      <td>0.0</td>\n",
       "      <td>5.0</td>\n",
       "    </tr>\n",
       "    <tr>\n",
       "      <th>7898</th>\n",
       "      <td>70.000000</td>\n",
       "      <td>1396.0</td>\n",
       "      <td>23.570000</td>\n",
       "      <td>25000</td>\n",
       "      <td>2013</td>\n",
       "      <td>1.0</td>\n",
       "      <td>0.0</td>\n",
       "      <td>2.0</td>\n",
       "      <td>0.0</td>\n",
       "      <td>1.0</td>\n",
       "      <td>0.0</td>\n",
       "      <td>5.0</td>\n",
       "    </tr>\n",
       "  </tbody>\n",
       "</table>\n",
       "<p>7733 rows × 12 columns</p>\n",
       "</div>"
      ],
      "text/plain": [
       "       max_power  engine    mileage  km_driven  year    0    1    2    3    4  \\\n",
       "0      74.000000  1248.0  23.400000     145500  2014  1.0  0.0  2.0  0.0  1.0   \n",
       "1     103.519997  1498.0  21.139999     120000  2014  1.0  0.0  1.0  0.0  1.0   \n",
       "2      78.000000  1497.0  17.700001     140000  2006  1.0  0.0  1.0  0.0  1.0   \n",
       "3      90.000000  1396.0  23.000000     127000  2010  1.0  0.0  1.0  0.0  1.0   \n",
       "4      88.199997  1298.0  16.100000     120000  2007  1.0  0.0  2.0  0.0  1.0   \n",
       "...          ...     ...        ...        ...   ...  ...  ...  ...  ...  ...   \n",
       "7894   82.849998  1197.0  18.500000     110000  2013  1.0  0.0  1.0  0.0  1.0   \n",
       "7895  110.000000  1493.0  16.799999     119000  2007  1.0  0.0  1.0  0.0  1.0   \n",
       "7896   73.900002  1248.0  19.299999     120000  2009  1.0  0.0  2.0  0.0  1.0   \n",
       "7897   70.000000  1396.0  23.570000      25000  2013  1.0  0.0  2.0  0.0  1.0   \n",
       "7898   70.000000  1396.0  23.570000      25000  2013  1.0  0.0  2.0  0.0  1.0   \n",
       "\n",
       "        5    6  \n",
       "0     0.0  5.0  \n",
       "1     2.0  5.0  \n",
       "2     3.0  5.0  \n",
       "3     0.0  5.0  \n",
       "4     0.0  5.0  \n",
       "...   ...  ...  \n",
       "7894  0.0  5.0  \n",
       "7895  1.0  5.0  \n",
       "7896  0.0  5.0  \n",
       "7897  0.0  5.0  \n",
       "7898  0.0  5.0  \n",
       "\n",
       "[7733 rows x 12 columns]"
      ]
     },
     "execution_count": 426,
     "metadata": {},
     "output_type": "execute_result"
    }
   ],
   "source": [
    "X"
   ]
  },
  {
   "cell_type": "markdown",
   "metadata": {},
   "source": [
    "# **Standard Scaaling**"
   ]
  },
  {
   "cell_type": "code",
   "execution_count": 427,
   "metadata": {},
   "outputs": [
    {
     "data": {
      "text/plain": [
       "array([[-0.49174781, -0.39480585,  0.98672055, ...,  0.37356662,\n",
       "        -0.6908065 , -0.43060894],\n",
       "       [ 0.42385051,  0.12552299,  0.41747852, ...,  0.37356662,\n",
       "         1.22012417, -0.43060894],\n",
       "       [-0.36768298,  0.12344168, -0.44897794, ...,  0.37356662,\n",
       "         2.1755895 , -0.43060894],\n",
       "       ...,\n",
       "       [-0.49484938, -0.39480585, -0.04597516, ...,  0.37356662,\n",
       "        -0.6908065 , -0.43060894],\n",
       "       [-0.61581263, -0.08677118,  1.02953965, ...,  0.37356662,\n",
       "        -0.6908065 , -0.43060894],\n",
       "       [-0.61581263, -0.08677118,  1.02953965, ...,  0.37356662,\n",
       "        -0.6908065 , -0.43060894]])"
      ]
     },
     "execution_count": 427,
     "metadata": {},
     "output_type": "execute_result"
    }
   ],
   "source": [
    "from sklearn.preprocessing import StandardScaler\n",
    "sc = StandardScaler()\n",
    "X.columns = X.columns.astype(str)\n",
    "X = sc.fit_transform(X)\n",
    "X"
   ]
  },
  {
   "cell_type": "markdown",
   "metadata": {},
   "source": [
    "# **Splitting**"
   ]
  },
  {
   "cell_type": "code",
   "execution_count": 430,
   "metadata": {},
   "outputs": [],
   "source": [
    "from sklearn.model_selection import train_test_split\n",
    "X_train,X_test,y_train,y_test = train_test_split(X,y,test_size=0.2,random_state=0)"
   ]
  },
  {
   "cell_type": "markdown",
   "metadata": {},
   "source": [
    "# **Training And Testing**"
   ]
  },
  {
   "cell_type": "code",
   "execution_count": 431,
   "metadata": {},
   "outputs": [
    {
     "name": "stdout",
     "output_type": "stream",
     "text": [
      "0.6623437047950702\n"
     ]
    }
   ],
   "source": [
    "'''Linear Regression'''\n",
    "from sklearn.linear_model import LinearRegression\n",
    "from sklearn.metrics import mean_absolute_error,r2_score\n",
    "\n",
    "regressor = LinearRegression()\n",
    "regressor.fit(X_train,y_train)\n",
    "\n",
    "y_pred = regressor.predict(X_test)\n",
    "\n",
    "print(r2_score(y_test,y_pred))"
   ]
  },
  {
   "cell_type": "code",
   "execution_count": 432,
   "metadata": {},
   "outputs": [
    {
     "name": "stdout",
     "output_type": "stream",
     "text": [
      "0.8592106306129519\n"
     ]
    }
   ],
   "source": [
    "'''SVM'''\n",
    "from sklearn.svm import SVR\n",
    "regressor = SVR(C=5000,kernel=\"poly\")\n",
    "regressor.fit(X_train,y_train)\n",
    "\n",
    "y_pred = regressor.predict(X_test)\n",
    "print(r2_score(y_test,y_pred))"
   ]
  },
  {
   "cell_type": "code",
   "execution_count": 433,
   "metadata": {},
   "outputs": [
    {
     "name": "stdout",
     "output_type": "stream",
     "text": [
      "0.9566485925004212\n"
     ]
    }
   ],
   "source": [
    "'''Decision Tree'''\n",
    "from sklearn.tree import DecisionTreeRegressor\n",
    "regressor = DecisionTreeRegressor(max_depth=10,min_samples_split=20)\n",
    "regressor.fit(X_train,y_train)\n",
    "\n",
    "y_pred = regressor.predict(X_test)\n",
    "print(r2_score(y_test,y_pred))"
   ]
  },
  {
   "cell_type": "code",
   "execution_count": null,
   "metadata": {},
   "outputs": [],
   "source": []
  }
 ],
 "metadata": {
  "kernelspec": {
   "display_name": "Python 3",
   "language": "python",
   "name": "python3"
  },
  "language_info": {
   "codemirror_mode": {
    "name": "ipython",
    "version": 3
   },
   "file_extension": ".py",
   "mimetype": "text/x-python",
   "name": "python",
   "nbconvert_exporter": "python",
   "pygments_lexer": "ipython3",
   "version": "3.11.4"
  },
  "orig_nbformat": 4
 },
 "nbformat": 4,
 "nbformat_minor": 2
}
