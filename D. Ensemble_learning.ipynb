{
 "cells": [
  {
   "cell_type": "markdown",
   "metadata": {},
   "source": [
    "# Ensemble learning:\n",
    "learning multiple model at one time\n",
    "\n",
    "# Types\n",
    "\n",
    "1. Bagging: \n",
    "\n",
    "    we run different algorithms parallel.\n",
    "  ---> sampling with replacement.\n",
    "\n",
    "  \n",
    "2. Pasting:\n",
    "  \n",
    "   we run different algorithms parallel.\n",
    "   ---> sampling without replacement. \n",
    "  \n",
    "3. Boosting:\n",
    "\n",
    "   different algorithms Sequentially.\n",
    "\n",
    "   \n",
    "  "
   ]
  },
  {
   "cell_type": "markdown",
   "metadata": {},
   "source": [
    "# Random Forest:\n",
    "\n",
    "Bagging with only decision trees."
   ]
  },
  {
   "cell_type": "code",
   "execution_count": 1,
   "metadata": {},
   "outputs": [],
   "source": [
    "from sklearn.ensemble import RandomForestClassifier"
   ]
  },
  {
   "cell_type": "code",
   "execution_count": 2,
   "metadata": {},
   "outputs": [
    {
     "ename": "NameError",
     "evalue": "name 'x_train' is not defined",
     "output_type": "error",
     "traceback": [
      "\u001b[1;31m---------------------------------------------------------------------------\u001b[0m",
      "\u001b[1;31mNameError\u001b[0m                                 Traceback (most recent call last)",
      "Cell \u001b[1;32mIn[2], line 4\u001b[0m\n\u001b[0;32m      1\u001b[0m classifier\u001b[39m=\u001b[39mRandomForestClassifier(n_estimators\u001b[39m=\u001b[39m\u001b[39m50\u001b[39m)\n\u001b[1;32m----> 4\u001b[0m classifier\u001b[39m.\u001b[39mfit(x_train,y_train)\n\u001b[0;32m      6\u001b[0m y_pred\u001b[39m=\u001b[39mclassifier\u001b[39m.\u001b[39mpredict(x_test)\n",
      "\u001b[1;31mNameError\u001b[0m: name 'x_train' is not defined"
     ]
    }
   ],
   "source": [
    "classifier=RandomForestClassifier(n_estimators=50)\n",
    "\n",
    "\n",
    "classifier.fit(x_train,y_train)\n",
    "\n",
    "y_pred=classifier.predict(x_test)"
   ]
  },
  {
   "cell_type": "code",
   "execution_count": null,
   "metadata": {},
   "outputs": [],
   "source": [
    "# Feature enginering"
   ]
  }
 ],
 "metadata": {
  "kernelspec": {
   "display_name": "base",
   "language": "python",
   "name": "python3"
  },
  "language_info": {
   "codemirror_mode": {
    "name": "ipython",
    "version": 3
   },
   "file_extension": ".py",
   "mimetype": "text/x-python",
   "name": "python",
   "nbconvert_exporter": "python",
   "pygments_lexer": "ipython3",
   "version": "3.10.9"
  },
  "orig_nbformat": 4
 },
 "nbformat": 4,
 "nbformat_minor": 2
}
