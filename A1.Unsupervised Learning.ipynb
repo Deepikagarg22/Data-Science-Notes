{
 "cells": [
  {
   "cell_type": "markdown",
   "metadata": {},
   "source": [
    "# **Unsupervised Learning**\n",
    "\n",
    "1. clusturing  - group down the data \n",
    "\n",
    "group bnaana kyu h - to extract the different kind of patterns for easy analytics we do clustering \n",
    "\n",
    "Methods of clustering \n",
    "\n",
    "a. **k-means** = group dena h in data (first = koi do point lelo khi bhi fir un done k bich m line lgani h or unka half krdo means ek or line lgao opposite , center nikal lo hr part ka ,center change hua to line change ,new line un centers m match hogi, yhi baar baar kro ek point aayega jhan center change nhi hoga whi group bngya )\n",
    "\n",
    "within cluster sum of squares**WCSS** - variability between each cluster of data(distance btata h hr cluster ka )\n",
    "\n",
    "**Elbow Method** = kmeans no. of cluster nikalne k liye\n",
    "\n",
    "best clustering = jb cluster ek dusre se door ho\n",
    "\n",
    "b. **Hierarichal clustering** = 1.Aglommarative (jodna) 2. Divisive (todna)\n",
    "\n",
    "hr point is cluster , jo doc luster krib h unhe jodo, graph bnado unke distance ka,aise hi kro last m ek bnega cluster (**dandrogram** ) big bar k center m line lgao uske niche wle best cluster honge\n",
    " \n",
    "**linkage** is the method to find the distance between two cluster.\n",
    "\n",
    "c. DBSCAN\n",
    "\n",
    "2. Dimentionality Reduction "
   ]
  },
  {
   "cell_type": "markdown",
   "metadata": {},
   "source": [
    "# **Dimentionality Reduction**\n",
    "\n",
    "is a technique in which we reduce the no. of dimention(columns) without losing the information.\n",
    "\n",
    "methods\n",
    "\n",
    "1. principal component analysis(pca) = we use this\n",
    "2. linear disciminant analysis(lda) = sara data visualise krne k liye only\n",
    "3. kernal svm\n",
    "example = in churn modelling data\n",
    "\n",
    "**Steps**\n",
    "\n",
    "1. Make covariance Matrix \n",
    "2. Find eigen veactor and value\n",
    "3. arrange vectors in descending order acc to values\n",
    "4. extract out first 2 vector\n",
    "5. finally therer will be 2 compressed columns"
   ]
  },
  {
   "cell_type": "markdown",
   "metadata": {},
   "source": []
  },
  {
   "cell_type": "code",
   "execution_count": null,
   "metadata": {},
   "outputs": [],
   "source": []
  }
 ],
 "metadata": {
  "language_info": {
   "name": "python"
  },
  "orig_nbformat": 4
 },
 "nbformat": 4,
 "nbformat_minor": 2
}
